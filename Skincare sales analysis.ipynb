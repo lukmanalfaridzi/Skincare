{
 "cells": [
  {
   "cell_type": "markdown",
   "id": "e0ba0b36",
   "metadata": {},
   "source": [
    "## LUKMAN ALFARIDZI ##"
   ]
  },
  {
   "cell_type": "code",
   "execution_count": null,
   "id": "058c6866",
   "metadata": {},
   "outputs": [],
   "source": [
    "import pandas as pd\n",
    "import seaborn as sns\n",
    "import matplotlib.pyplot as plt\n",
    "from sklearn.feature_selection import mutual_info_regression\n",
    "import numpy as np\n",
    "from sklearn.preprocessing import StandardScaler\n",
    "from sklearn.decomposition import PCA"
   ]
  },
  {
   "cell_type": "code",
   "execution_count": null,
   "id": "e9de43ad",
   "metadata": {},
   "outputs": [],
   "source": [
    "data = pd.read_csv('regowlproduct.csv')"
   ]
  },
  {
   "cell_type": "code",
   "execution_count": null,
   "id": "2651b566",
   "metadata": {
    "scrolled": true
   },
   "outputs": [],
   "source": [
    "import pandas as pd\n",
    "\n",
    "# Provide the path to your CSV file\n",
    "PATH = \"C:\\\\Users\\\\Lukman\\\\regowlproduct.csv\"\n",
    "\n",
    "# Specify the delimiter as a semicolon\n",
    "raw_df = pd.read_csv(PATH, encoding='windows-1252', sep=';')\n",
    "\n",
    "# Make a copy of the DataFrame\n",
    "df = raw_df.copy()\n",
    "\n",
    "# Set display options if needed\n",
    "pd.set_option('display.max_rows', 999)\n",
    "pd.set_option('display.max_columns', 999)\n",
    "\n",
    "# Display the first few rows of the DataFrame\n",
    "df.head()\n"
   ]
  },
  {
   "cell_type": "code",
   "execution_count": null,
   "id": "cccfc112",
   "metadata": {},
   "outputs": [],
   "source": [
    "# DATA CLEANING AND EXPLORATORY"
   ]
  },
  {
   "cell_type": "code",
   "execution_count": null,
   "id": "10cacffc",
   "metadata": {},
   "outputs": [],
   "source": [
    "# Delete spaces in column names\n",
    "df.columns = df.columns.str.replace(' ', '')"
   ]
  },
  {
   "cell_type": "code",
   "execution_count": null,
   "id": "9126f6a3",
   "metadata": {},
   "outputs": [],
   "source": [
    "df = df.rename(columns={'ï»¿Province': 'Province'})"
   ]
  },
  {
   "cell_type": "code",
   "execution_count": null,
   "id": "70833613",
   "metadata": {},
   "outputs": [],
   "source": [
    "df['Total_Agent'] = pd.to_numeric(df['Total_Agent'], errors='coerce')"
   ]
  },
  {
   "cell_type": "code",
   "execution_count": null,
   "id": "f29858af",
   "metadata": {
    "scrolled": true
   },
   "outputs": [],
   "source": [
    "df.info()\n",
    "df.describe()"
   ]
  },
  {
   "cell_type": "code",
   "execution_count": null,
   "id": "f32e4d83",
   "metadata": {
    "scrolled": false
   },
   "outputs": [],
   "source": [
    "print(df.columns)"
   ]
  },
  {
   "cell_type": "markdown",
   "id": "6d04b239",
   "metadata": {},
   "source": [
    "# DATA ANALYSIS"
   ]
  },
  {
   "cell_type": "code",
   "execution_count": null,
   "id": "0e7a4f06",
   "metadata": {},
   "outputs": [],
   "source": [
    "import matplotlib.pyplot as plt\n",
    "import seaborn as sns\n",
    "from matplotlib.ticker import FuncFormatter\n",
    "\n",
    "# Sort the dataset by 'Total_Revenue' in ascending order to get the lowest values first\n",
    "sorted_df = df.sort_values(by='Total_Revenue', ascending=True)\n",
    "\n",
    "plt.figure(figsize=(18, 8))\n",
    "\n",
    "# Create a bar plot for the top 20 lowest total revenue by province\n",
    "ax = sns.barplot(x='Total_Revenue', y='Province', data=df)\n",
    "\n",
    "# Format the x-axis labels as currency in Rupiah\n",
    "def rupiah_formatter(x, pos):\n",
    "    return 'Rp {:,.0f}'.format(x)\n",
    "\n",
    "ax.xaxis.set_major_formatter(FuncFormatter(rupiah_formatter))\n",
    "\n",
    "# Annotate the data values on the bars with padding\n",
    "padding = 10000000  # Adjust the padding value as needed\n",
    "\n",
    "for p in ax.patches:\n",
    "    ax.annotate(f'Rp {p.get_width():,.0f}', (p.get_width() + padding, p.get_y() + p.get_height() / 2),\n",
    "                ha='left', va='center', fontsize=12, color='black')\n",
    "\n",
    "plt.title('Total Revenue each Province', fontsize=16)\n",
    "plt.xlabel('Total Revenue (in Rupiah)', fontsize=14)\n",
    "plt.ylabel('Province', fontsize=14)\n",
    "\n",
    "plt.show()"
   ]
  },
  {
   "cell_type": "code",
   "execution_count": null,
   "id": "23440601",
   "metadata": {
    "scrolled": true
   },
   "outputs": [],
   "source": [
    "import matplotlib.pyplot as plt\n",
    "import seaborn as sns\n",
    "\n",
    "# Increase the figure size\n",
    "plt.figure(figsize=(18, 8))\n",
    "\n",
    "# Create a bar plot to show the total count of 'Total Agent' for each province\n",
    "ax = sns.barplot(data=df, x='Province', y='Total_Agent', estimator=sum)\n",
    "\n",
    "plt.title('Total Agents by Province', fontsize=16)\n",
    "plt.xlabel('Province', fontsize=14)\n",
    "plt.ylabel('Total Agents', fontsize=14)\n",
    "\n",
    "# Rotate x-axis labels for better readability\n",
    "plt.xticks(rotation=90, fontsize=12)\n",
    "\n",
    "# Annotate the data values on the bars\n",
    "for p in ax.patches:\n",
    "    ax.annotate(f'{p.get_height():.0f}', (p.get_x() + p.get_width() / 2., p.get_height()),\n",
    "                ha='center', va='baseline', fontsize=12, color='black')\n",
    "\n",
    "plt.show()"
   ]
  },
  {
   "cell_type": "code",
   "execution_count": null,
   "id": "55159e1e",
   "metadata": {
    "scrolled": true
   },
   "outputs": [],
   "source": [
    "plt.figure(figsize=(8, 6))\n",
    "sns.histplot(df['Total_Agent'], bins=10, kde=True)\n",
    "plt.title('Distribution of Total Agents')\n",
    "plt.xlabel('Total Agents')\n",
    "plt.ylabel('Frequency')\n",
    "plt.show()"
   ]
  },
  {
   "cell_type": "code",
   "execution_count": null,
   "id": "90967eae",
   "metadata": {},
   "outputs": [],
   "source": [
    "correlation_matrix = df.corr()\n",
    "plt.figure(figsize=(10, 8))\n",
    "sns.heatmap(correlation_matrix, annot=True, cmap='coolwarm')\n",
    "plt.title('Correlation Matrix')\n",
    "plt.show()"
   ]
  },
  {
   "cell_type": "code",
   "execution_count": null,
   "id": "3d2ff775",
   "metadata": {},
   "outputs": [],
   "source": [
    "import matplotlib.pyplot as plt\n",
    "import numpy as np\n",
    "from sklearn.linear_model import LinearRegression\n",
    "from scipy.stats import norm\n",
    "\n",
    "# Create a scatter plot\n",
    "plt.scatter(df['Total_Agent'], df['Total_Revenue'])\n",
    "plt.xlabel('Total Agent')\n",
    "plt.ylabel('Total Revenue')\n",
    "\n",
    "# Fit a linear regression model\n",
    "model = LinearRegression()\n",
    "X = df[['Total_Agent']]\n",
    "y = df['Total_Revenue']\n",
    "model.fit(X, y)\n",
    "\n",
    "# Generate points for the regression line\n",
    "x = np.linspace(X.min(), X.max(), 100).reshape(-1, 1)\n",
    "y_pred = model.predict(x)\n",
    "\n",
    "# Plot the regression line\n",
    "plt.plot(x, y_pred, color='red')\n",
    "\n",
    "# Calculate the standard error (sigma) and confidence interval\n",
    "sigma = np.std(y - model.predict(X))\n",
    "y_err = sigma * norm.ppf(0.975)\n",
    "\n",
    "# Plot the confidence interval\n",
    "plt.fill_between(x.flatten(), (y_pred - y_err), (y_pred + y_err), color='red', alpha=0.2)\n",
    "\n",
    "plt.title('Total Revenue vs. Total Agent')\n",
    "plt.xlabel('Total Agent')\n",
    "plt.ylabel('Total Revenue')\n",
    "\n",
    "plt.show()\n"
   ]
  },
  {
   "cell_type": "code",
   "execution_count": null,
   "id": "05adcc4b",
   "metadata": {},
   "outputs": [],
   "source": [
    "import matplotlib.pyplot as plt\n",
    "import seaborn as sns\n",
    "from matplotlib.ticker import FuncFormatter\n",
    "\n",
    "# Sort the dataset by 'Lowest_Sales' in descending order\n",
    "sorted_df = df.sort_values(by='Total_Revenue', ascending=False)\n",
    "\n",
    "# Select the top 20 rows with the lowest sales\n",
    "top_20_lowest_sales = sorted_df.head(20)\n",
    "\n",
    "plt.figure(figsize=(18, 8))\n",
    "\n",
    "# Create a bar plot for the top 20 lowest sales by province\n",
    "ax = sns.barplot(x='Total_Revenue', y='Province', data=top_20_lowest_sales)\n",
    "\n",
    "# Format the x-axis labels as currency in Rupiah\n",
    "def rupiah_formatter(x, pos):\n",
    "    return 'Rp {:,.0f}'.format(x)\n",
    "\n",
    "ax.xaxis.set_major_formatter(FuncFormatter(rupiah_formatter))\n",
    "\n",
    "# Annotate the data values on the bars\n",
    "for p in ax.patches:\n",
    "    ax.annotate(f'Rp {p.get_width():,.0f}', (p.get_x() + p.get_width(), p.get_y() + p.get_height()/2),\n",
    "                ha='left', va='center', fontsize=12, color='black')\n",
    "\n",
    "plt.title('Top 20 Highest by Province', fontsize=16)\n",
    "plt.xlabel('Total_Revenue (in Rupiah)', fontsize=14)\n",
    "plt.ylabel('Province', fontsize=14)\n",
    "\n",
    "plt.show()\n"
   ]
  },
  {
   "cell_type": "code",
   "execution_count": null,
   "id": "5ff7d2f8",
   "metadata": {
    "scrolled": true
   },
   "outputs": [],
   "source": [
    "import matplotlib.pyplot as plt\n",
    "import seaborn as sns\n",
    "from matplotlib.ticker import FuncFormatter\n",
    "\n",
    "# Sort the dataset by 'Total_Revenue' in ascending order to get the lowest values first\n",
    "sorted_df = df.sort_values(by='Total_Revenue', ascending=True)\n",
    "\n",
    "# Select the top 20 rows with the lowest total revenue\n",
    "top_20_lowest_revenue = sorted_df.head(20)\n",
    "\n",
    "plt.figure(figsize=(18, 8))\n",
    "\n",
    "# Create a bar plot for the top 20 lowest total revenue by province\n",
    "ax = sns.barplot(x='Total_Revenue', y='Province', data=top_20_lowest_revenue)\n",
    "\n",
    "# Format the x-axis labels as currency in Rupiah\n",
    "def rupiah_formatter(x, pos):\n",
    "    return 'Rp {:,.0f}'.format(x)\n",
    "\n",
    "ax.xaxis.set_major_formatter(FuncFormatter(rupiah_formatter))\n",
    "\n",
    "# Annotate the data values on the bars with padding\n",
    "padding = 100000000  # Adjust the padding value as needed\n",
    "\n",
    "for p in ax.patches:\n",
    "    ax.annotate(f'Rp {p.get_width():,.0f}', (p.get_width() + padding, p.get_y() + p.get_height() / 2),\n",
    "                ha='left', va='center', fontsize=12, color='black')\n",
    "\n",
    "plt.title('Top 20 Lowest Total Revenue by Province', fontsize=16)\n",
    "plt.xlabel('Total Revenue (in Rupiah)', fontsize=14)\n",
    "plt.ylabel('Province', fontsize=14)\n",
    "\n",
    "plt.show()\n"
   ]
  },
  {
   "cell_type": "code",
   "execution_count": null,
   "id": "76ad8274",
   "metadata": {},
   "outputs": [],
   "source": [
    "import matplotlib.pyplot as plt\n",
    "import seaborn as sns\n",
    "from matplotlib.ticker import FuncFormatter\n",
    "\n",
    "# Sort the dataset by 'Total_Revenue' in ascending order to get the lowest values first\n",
    "sorted_df = df.sort_values(by='Serum', ascending=True)\n",
    "\n",
    "# Select the top 20 rows with the lowest total revenue\n",
    "top_20_highest_revenue = sorted_df.head(20)\n",
    "\n",
    "plt.figure(figsize=(18, 8))\n",
    "\n",
    "# Create a bar plot for the top 20 lowest total revenue by province\n",
    "ax = sns.barplot(x='Serum', y='Province', data=top_20_lowest_revenue)\n",
    "\n",
    "# Format the x-axis labels as currency in Rupiah\n",
    "def rupiah_formatter(x, pos):\n",
    "    return 'Rp {:,.0f}'.format(x)\n",
    "\n",
    "ax.xaxis.set_major_formatter(FuncFormatter(rupiah_formatter))\n",
    "\n",
    "# Annotate the data values on the bars with padding\n",
    "padding = 10000000  # Adjust the padding value as needed\n",
    "\n",
    "for p in ax.patches:\n",
    "    ax.annotate(f'Rp {p.get_width():,.0f}', (p.get_width() + padding, p.get_y() + p.get_height() / 2),\n",
    "                ha='left', va='center', fontsize=12, color='black')\n",
    "\n",
    "plt.title('Top 20 Lowest Serum Revenue by Province', fontsize=16)\n",
    "plt.xlabel('Serum (in Rupiah)', fontsize=14)\n",
    "plt.ylabel('Province', fontsize=14)\n",
    "\n",
    "plt.show()\n"
   ]
  },
  {
   "cell_type": "code",
   "execution_count": null,
   "id": "f3b43d17",
   "metadata": {
    "scrolled": true
   },
   "outputs": [],
   "source": [
    "import matplotlib.pyplot as plt\n",
    "import seaborn as sns\n",
    "from matplotlib.ticker import FuncFormatter\n",
    "\n",
    "# Sort the dataset by 'Total_Revenue' in ascending order to get the lowest values first\n",
    "sorted_df = df.sort_values(by='Cream', ascending=True)\n",
    "\n",
    "# Select the top 20 rows with the lowest total revenue\n",
    "top_20_lowest_revenue = sorted_df.head(20)\n",
    "\n",
    "plt.figure(figsize=(18, 8))\n",
    "\n",
    "# Create a bar plot for the top 20 lowest total revenue by province\n",
    "ax = sns.barplot(x='Cream', y='Province', data=top_20_lowest_revenue)\n",
    "\n",
    "# Format the x-axis labels as currency in Rupiah\n",
    "def rupiah_formatter(x, pos):\n",
    "    return 'Rp {:,.0f}'.format(x)\n",
    "\n",
    "ax.xaxis.set_major_formatter(FuncFormatter(rupiah_formatter))\n",
    "\n",
    "# Annotate the data values on the bars with padding\n",
    "padding = 10000  # Adjust the padding value as needed\n",
    "\n",
    "for p in ax.patches:\n",
    "    ax.annotate(f'Rp {p.get_width():,.0f}', (p.get_width() + padding, p.get_y() + p.get_height() / 2),\n",
    "                ha='left', va='center', fontsize=12, color='black')\n",
    "\n",
    "plt.title('Top 20 Lowest Cream Revenue by Province', fontsize=16)\n",
    "plt.ylabel('Province', fontsize=14)\n",
    "\n",
    "plt.show()\n"
   ]
  },
  {
   "cell_type": "code",
   "execution_count": null,
   "id": "dfb1e143",
   "metadata": {
    "scrolled": true
   },
   "outputs": [],
   "source": [
    "import matplotlib.pyplot as plt\n",
    "import seaborn as sns\n",
    "from matplotlib.ticker import FuncFormatter\n",
    "\n",
    "# Sort the dataset by 'Total_Revenue' in ascending order to get the lowest values first\n",
    "sorted_df = df.sort_values(by='Toner', ascending=True)\n",
    "\n",
    "# Select the top 20 rows with the lowest total revenue\n",
    "top_20_lowest_revenue = sorted_df.head(20)\n",
    "\n",
    "plt.figure(figsize=(18, 8))\n",
    "\n",
    "# Create a bar plot for the top 20 lowest total revenue by province\n",
    "ax = sns.barplot(x='Toner', y='Province', data=top_20_lowest_revenue)\n",
    "\n",
    "# Format the x-axis labels as currency in Rupiah\n",
    "def rupiah_formatter(x, pos):\n",
    "    return 'Rp {:,.0f}'.format(x)\n",
    "\n",
    "ax.xaxis.set_major_formatter(FuncFormatter(rupiah_formatter))\n",
    "\n",
    "# Annotate the data values on the bars with padding\n",
    "padding = 10000  # Adjust the padding value as needed\n",
    "\n",
    "for p in ax.patches:\n",
    "    ax.annotate(f'Rp {p.get_width():,.0f}', (p.get_width() + padding, p.get_y() + p.get_height() / 2),\n",
    "                ha='left', va='center', fontsize=12, color='black')\n",
    "\n",
    "plt.title('Top 20 Lowest Toner Revenue by Province', fontsize=16)\n",
    "plt.ylabel('Province', fontsize=14)\n",
    "\n",
    "plt.show()\n"
   ]
  },
  {
   "cell_type": "code",
   "execution_count": null,
   "id": "2f7fb610",
   "metadata": {
    "scrolled": true
   },
   "outputs": [],
   "source": [
    "import matplotlib.pyplot as plt\n",
    "import seaborn as sns\n",
    "from matplotlib.ticker import FuncFormatter\n",
    "\n",
    "# Sort the dataset by 'Total_Revenue' in ascending order to get the lowest values first\n",
    "sorted_df = df.sort_values(by='Sheet_Mask', ascending=True)\n",
    "\n",
    "# Select the top 20 rows with the lowest total revenue\n",
    "top_20_lowest_revenue = sorted_df.head(20)\n",
    "\n",
    "plt.figure(figsize=(18, 8))\n",
    "\n",
    "# Create a bar plot for the top 20 lowest total revenue by province\n",
    "ax = sns.barplot(x='Sheet_Mask', y='Province', data=top_20_lowest_revenue)\n",
    "\n",
    "# Format the x-axis labels as currency in Rupiah\n",
    "def rupiah_formatter(x, pos):\n",
    "    return 'Rp {:,.0f}'.format(x)\n",
    "\n",
    "ax.xaxis.set_major_formatter(FuncFormatter(rupiah_formatter))\n",
    "\n",
    "# Annotate the data values on the bars with padding\n",
    "padding = 10000  # Adjust the padding value as needed\n",
    "\n",
    "for p in ax.patches:\n",
    "    ax.annotate(f'Rp {p.get_width():,.0f}', (p.get_width() + padding, p.get_y() + p.get_height() / 2),\n",
    "                ha='left', va='center', fontsize=12, color='black')\n",
    "\n",
    "plt.title('Top 20 Lowest Sheet Mask Revenue by Province', fontsize=16)\n",
    "plt.ylabel('Province', fontsize=14)\n",
    "\n",
    "plt.show()\n"
   ]
  },
  {
   "cell_type": "code",
   "execution_count": null,
   "id": "db29b11b",
   "metadata": {},
   "outputs": [],
   "source": [
    "import matplotlib.pyplot as plt\n",
    "import seaborn as sns\n",
    "from matplotlib.ticker import FuncFormatter\n",
    "\n",
    "# Sort the dataset by 'Total_Revenue' in ascending order to get the lowest values first\n",
    "sorted_df = df.sort_values(by='Facial_Wash', ascending=True)\n",
    "\n",
    "# Select the top 20 rows with the lowest total revenue\n",
    "top_20_lowest_revenue = sorted_df.head(20)\n",
    "\n",
    "plt.figure(figsize=(18, 8))\n",
    "\n",
    "# Create a bar plot for the top 20 lowest total revenue by province\n",
    "ax = sns.barplot(x='Facial_Wash', y='Province', data=top_20_lowest_revenue)\n",
    "\n",
    "# Format the x-axis labels as currency in Rupiah\n",
    "def rupiah_formatter(x, pos):\n",
    "    return 'Rp {:,.0f}'.format(x)\n",
    "\n",
    "ax.xaxis.set_major_formatter(FuncFormatter(rupiah_formatter))\n",
    "\n",
    "# Annotate the data values on the bars with padding\n",
    "padding = 10000  # Adjust the padding value as needed\n",
    "\n",
    "for p in ax.patches:\n",
    "    ax.annotate(f'Rp {p.get_width():,.0f}', (p.get_width() + padding, p.get_y() + p.get_height() / 2),\n",
    "                ha='left', va='center', fontsize=12, color='black')\n",
    "\n",
    "plt.title('Top 20 Lowest Sheet Mask Revenue by Province', fontsize=16)\n",
    "plt.ylabel('Province', fontsize=14)\n",
    "\n",
    "plt.show()\n"
   ]
  },
  {
   "cell_type": "code",
   "execution_count": null,
   "id": "4a2c2e16",
   "metadata": {},
   "outputs": [],
   "source": [
    "import matplotlib.pyplot as plt\n",
    "import seaborn as sns\n",
    "from matplotlib.ticker import FuncFormatter\n",
    "\n",
    "# Sort the dataset by 'Nigh Wash' in ascending order to get the lowest values first\n",
    "sorted_df = df.sort_values(by='Night_Cream', ascending=True)\n",
    "\n",
    "# Select the top 20 rows with the lowest total revenue\n",
    "top_20_lowest_revenue = sorted_df.head(20)\n",
    "\n",
    "plt.figure(figsize=(18, 8))\n",
    "\n",
    "# Create a bar plot for the top 20 lowest total revenue by province\n",
    "ax = sns.barplot(x='Night_Cream', y='Province', data=top_20_lowest_revenue)\n",
    "\n",
    "# Format the x-axis labels as currency in Rupiah\n",
    "def rupiah_formatter(x, pos):\n",
    "    return 'Rp {:,.0f}'.format(x)\n",
    "\n",
    "ax.xaxis.set_major_formatter(FuncFormatter(rupiah_formatter))\n",
    "\n",
    "# Annotate the data values on the bars with padding\n",
    "padding = 10000  # Adjust the padding value as needed\n",
    "\n",
    "for p in ax.patches:\n",
    "    ax.annotate(f'Rp {p.get_width():,.0f}', (p.get_width() + padding, p.get_y() + p.get_height() / 2),\n",
    "                ha='left', va='center', fontsize=12, color='black')\n",
    "\n",
    "plt.title('Top 20 Lowest Night Cream Revenue by Province', fontsize=16)\n",
    "plt.ylabel('Province', fontsize=14)\n",
    "\n",
    "plt.show()\n"
   ]
  },
  {
   "cell_type": "code",
   "execution_count": null,
   "id": "63622b6c",
   "metadata": {
    "scrolled": true,
    "slideshow": {
     "slide_type": "notes"
    }
   },
   "outputs": [],
   "source": [
    "sns.pairplot(df[['Total_Revenue','Serum','Cream','Toner','Facial_Wash','Sheet_Mask','Night_Cream']])\n",
    "plt.suptitle('Pairplot of Key Variables', y=1.02)\n",
    "plt.show()"
   ]
  }
 ],
 "metadata": {
  "kernelspec": {
   "display_name": "Python 3 (ipykernel)",
   "language": "python",
   "name": "python3"
  },
  "language_info": {
   "codemirror_mode": {
    "name": "ipython",
    "version": 3
   },
   "file_extension": ".py",
   "mimetype": "text/x-python",
   "name": "python",
   "nbconvert_exporter": "python",
   "pygments_lexer": "ipython3",
   "version": "3.10.9"
  }
 },
 "nbformat": 4,
 "nbformat_minor": 5
}
